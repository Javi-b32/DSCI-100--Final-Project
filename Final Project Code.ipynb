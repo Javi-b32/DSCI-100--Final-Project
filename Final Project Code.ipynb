{
 "cells": [
  {
   "cell_type": "markdown",
   "id": "79cb30ef-4737-423c-80ae-3ba14e5c4c6f",
   "metadata": {},
   "source": [
    "This project investigates whether player characteristics such as age, gender, experience, and newsletter subscription status can predict how many hours a player contributes to the Minecraft server."
   ]
  },
  {
   "cell_type": "markdown",
   "id": "5bb76bff-7898-4862-ae1c-46b1830fd4ad",
   "metadata": {},
   "source": [
    "STEP 1: Loading Libraries and Visualizing Data"
   ]
  },
  {
   "cell_type": "code",
   "execution_count": 1,
   "id": "a030f844-c55c-41fa-a197-44f0c878e094",
   "metadata": {},
   "outputs": [
    {
     "name": "stderr",
     "output_type": "stream",
     "text": [
      "── \u001b[1mAttaching core tidyverse packages\u001b[22m ──────────────────────── tidyverse 2.0.0 ──\n",
      "\u001b[32m✔\u001b[39m \u001b[34mdplyr    \u001b[39m 1.1.4     \u001b[32m✔\u001b[39m \u001b[34mreadr    \u001b[39m 2.1.5\n",
      "\u001b[32m✔\u001b[39m \u001b[34mforcats  \u001b[39m 1.0.0     \u001b[32m✔\u001b[39m \u001b[34mstringr  \u001b[39m 1.5.1\n",
      "\u001b[32m✔\u001b[39m \u001b[34mggplot2  \u001b[39m 3.5.1     \u001b[32m✔\u001b[39m \u001b[34mtibble   \u001b[39m 3.2.1\n",
      "\u001b[32m✔\u001b[39m \u001b[34mlubridate\u001b[39m 1.9.3     \u001b[32m✔\u001b[39m \u001b[34mtidyr    \u001b[39m 1.3.1\n",
      "\u001b[32m✔\u001b[39m \u001b[34mpurrr    \u001b[39m 1.0.2     \n",
      "── \u001b[1mConflicts\u001b[22m ────────────────────────────────────────── tidyverse_conflicts() ──\n",
      "\u001b[31m✖\u001b[39m \u001b[34mdplyr\u001b[39m::\u001b[32mfilter()\u001b[39m masks \u001b[34mstats\u001b[39m::filter()\n",
      "\u001b[31m✖\u001b[39m \u001b[34mdplyr\u001b[39m::\u001b[32mlag()\u001b[39m    masks \u001b[34mstats\u001b[39m::lag()\n",
      "\u001b[36mℹ\u001b[39m Use the conflicted package (\u001b[3m\u001b[34m<http://conflicted.r-lib.org/>\u001b[39m\u001b[23m) to force all conflicts to become errors\n"
     ]
    }
   ],
   "source": [
    "library(tidyverse)"
   ]
  },
  {
   "cell_type": "markdown",
   "id": "3b0ddb1b-2461-41ff-8b94-7f6f0f0e2d1c",
   "metadata": {},
   "source": [
    "Following this we can load and visualize the data"
   ]
  },
  {
   "cell_type": "code",
   "execution_count": 2,
   "id": "39cce575-beb7-4d97-9f74-e72bc3c3a1df",
   "metadata": {},
   "outputs": [
    {
     "name": "stderr",
     "output_type": "stream",
     "text": [
      "\u001b[1mRows: \u001b[22m\u001b[34m196\u001b[39m \u001b[1mColumns: \u001b[22m\u001b[34m7\u001b[39m\n",
      "\u001b[36m──\u001b[39m \u001b[1mColumn specification\u001b[22m \u001b[36m────────────────────────────────────────────────────────\u001b[39m\n",
      "\u001b[1mDelimiter:\u001b[22m \",\"\n",
      "\u001b[31mchr\u001b[39m (4): experience, hashedEmail, name, gender\n",
      "\u001b[32mdbl\u001b[39m (2): played_hours, Age\n",
      "\u001b[33mlgl\u001b[39m (1): subscribe\n",
      "\n",
      "\u001b[36mℹ\u001b[39m Use `spec()` to retrieve the full column specification for this data.\n",
      "\u001b[36mℹ\u001b[39m Specify the column types or set `show_col_types = FALSE` to quiet this message.\n"
     ]
    },
    {
     "data": {
      "text/html": [
       "<table class=\"dataframe\">\n",
       "<caption>A tibble: 6 × 7</caption>\n",
       "<thead>\n",
       "\t<tr><th scope=col>experience</th><th scope=col>subscribe</th><th scope=col>hashedEmail</th><th scope=col>played_hours</th><th scope=col>name</th><th scope=col>gender</th><th scope=col>Age</th></tr>\n",
       "\t<tr><th scope=col>&lt;chr&gt;</th><th scope=col>&lt;lgl&gt;</th><th scope=col>&lt;chr&gt;</th><th scope=col>&lt;dbl&gt;</th><th scope=col>&lt;chr&gt;</th><th scope=col>&lt;chr&gt;</th><th scope=col>&lt;dbl&gt;</th></tr>\n",
       "</thead>\n",
       "<tbody>\n",
       "\t<tr><td>Pro    </td><td> TRUE</td><td>f6daba428a5e19a3d47574858c13550499be23603422e6a0ee9728f8b53e192d</td><td>30.3</td><td>Morgan   </td><td>Male  </td><td> 9</td></tr>\n",
       "\t<tr><td>Veteran</td><td> TRUE</td><td>f3c813577c458ba0dfef80996f8f32c93b6e8af1fa939732842f2312358a88e9</td><td> 3.8</td><td>Christian</td><td>Male  </td><td>17</td></tr>\n",
       "\t<tr><td>Veteran</td><td>FALSE</td><td>b674dd7ee0d24096d1c019615ce4d12b20fcbff12d79d3c5a9d2118eb7ccbb28</td><td> 0.0</td><td>Blake    </td><td>Male  </td><td>17</td></tr>\n",
       "\t<tr><td>Amateur</td><td> TRUE</td><td>23fe711e0e3b77f1da7aa221ab1192afe21648d47d2b4fa7a5a659ff443a0eb5</td><td> 0.7</td><td>Flora    </td><td>Female</td><td>21</td></tr>\n",
       "\t<tr><td>Regular</td><td> TRUE</td><td>7dc01f10bf20671ecfccdac23812b1b415acd42c2147cb0af4d48fcce2420f3e</td><td> 0.1</td><td>Kylie    </td><td>Male  </td><td>21</td></tr>\n",
       "\t<tr><td>Amateur</td><td> TRUE</td><td>f58aad5996a435f16b0284a3b267f973f9af99e7a89bee0430055a44fa92f977</td><td> 0.0</td><td>Adrian   </td><td>Female</td><td>17</td></tr>\n",
       "</tbody>\n",
       "</table>\n"
      ],
      "text/latex": [
       "A tibble: 6 × 7\n",
       "\\begin{tabular}{lllllll}\n",
       " experience & subscribe & hashedEmail & played\\_hours & name & gender & Age\\\\\n",
       " <chr> & <lgl> & <chr> & <dbl> & <chr> & <chr> & <dbl>\\\\\n",
       "\\hline\n",
       "\t Pro     &  TRUE & f6daba428a5e19a3d47574858c13550499be23603422e6a0ee9728f8b53e192d & 30.3 & Morgan    & Male   &  9\\\\\n",
       "\t Veteran &  TRUE & f3c813577c458ba0dfef80996f8f32c93b6e8af1fa939732842f2312358a88e9 &  3.8 & Christian & Male   & 17\\\\\n",
       "\t Veteran & FALSE & b674dd7ee0d24096d1c019615ce4d12b20fcbff12d79d3c5a9d2118eb7ccbb28 &  0.0 & Blake     & Male   & 17\\\\\n",
       "\t Amateur &  TRUE & 23fe711e0e3b77f1da7aa221ab1192afe21648d47d2b4fa7a5a659ff443a0eb5 &  0.7 & Flora     & Female & 21\\\\\n",
       "\t Regular &  TRUE & 7dc01f10bf20671ecfccdac23812b1b415acd42c2147cb0af4d48fcce2420f3e &  0.1 & Kylie     & Male   & 21\\\\\n",
       "\t Amateur &  TRUE & f58aad5996a435f16b0284a3b267f973f9af99e7a89bee0430055a44fa92f977 &  0.0 & Adrian    & Female & 17\\\\\n",
       "\\end{tabular}\n"
      ],
      "text/markdown": [
       "\n",
       "A tibble: 6 × 7\n",
       "\n",
       "| experience &lt;chr&gt; | subscribe &lt;lgl&gt; | hashedEmail &lt;chr&gt; | played_hours &lt;dbl&gt; | name &lt;chr&gt; | gender &lt;chr&gt; | Age &lt;dbl&gt; |\n",
       "|---|---|---|---|---|---|---|\n",
       "| Pro     |  TRUE | f6daba428a5e19a3d47574858c13550499be23603422e6a0ee9728f8b53e192d | 30.3 | Morgan    | Male   |  9 |\n",
       "| Veteran |  TRUE | f3c813577c458ba0dfef80996f8f32c93b6e8af1fa939732842f2312358a88e9 |  3.8 | Christian | Male   | 17 |\n",
       "| Veteran | FALSE | b674dd7ee0d24096d1c019615ce4d12b20fcbff12d79d3c5a9d2118eb7ccbb28 |  0.0 | Blake     | Male   | 17 |\n",
       "| Amateur |  TRUE | 23fe711e0e3b77f1da7aa221ab1192afe21648d47d2b4fa7a5a659ff443a0eb5 |  0.7 | Flora     | Female | 21 |\n",
       "| Regular |  TRUE | 7dc01f10bf20671ecfccdac23812b1b415acd42c2147cb0af4d48fcce2420f3e |  0.1 | Kylie     | Male   | 21 |\n",
       "| Amateur |  TRUE | f58aad5996a435f16b0284a3b267f973f9af99e7a89bee0430055a44fa92f977 |  0.0 | Adrian    | Female | 17 |\n",
       "\n"
      ],
      "text/plain": [
       "  experience subscribe\n",
       "1 Pro         TRUE    \n",
       "2 Veteran     TRUE    \n",
       "3 Veteran    FALSE    \n",
       "4 Amateur     TRUE    \n",
       "5 Regular     TRUE    \n",
       "6 Amateur     TRUE    \n",
       "  hashedEmail                                                      played_hours\n",
       "1 f6daba428a5e19a3d47574858c13550499be23603422e6a0ee9728f8b53e192d 30.3        \n",
       "2 f3c813577c458ba0dfef80996f8f32c93b6e8af1fa939732842f2312358a88e9  3.8        \n",
       "3 b674dd7ee0d24096d1c019615ce4d12b20fcbff12d79d3c5a9d2118eb7ccbb28  0.0        \n",
       "4 23fe711e0e3b77f1da7aa221ab1192afe21648d47d2b4fa7a5a659ff443a0eb5  0.7        \n",
       "5 7dc01f10bf20671ecfccdac23812b1b415acd42c2147cb0af4d48fcce2420f3e  0.1        \n",
       "6 f58aad5996a435f16b0284a3b267f973f9af99e7a89bee0430055a44fa92f977  0.0        \n",
       "  name      gender Age\n",
       "1 Morgan    Male    9 \n",
       "2 Christian Male   17 \n",
       "3 Blake     Male   17 \n",
       "4 Flora     Female 21 \n",
       "5 Kylie     Male   21 \n",
       "6 Adrian    Female 17 "
      ]
     },
     "metadata": {},
     "output_type": "display_data"
    },
    {
     "data": {
      "text/html": [
       "<table class=\"dataframe\">\n",
       "<caption>A tibble: 6 × 7</caption>\n",
       "<thead>\n",
       "\t<tr><th scope=col>experience</th><th scope=col>subscribe</th><th scope=col>hashedEmail</th><th scope=col>played_hours</th><th scope=col>name</th><th scope=col>gender</th><th scope=col>Age</th></tr>\n",
       "\t<tr><th scope=col>&lt;chr&gt;</th><th scope=col>&lt;lgl&gt;</th><th scope=col>&lt;chr&gt;</th><th scope=col>&lt;dbl&gt;</th><th scope=col>&lt;chr&gt;</th><th scope=col>&lt;chr&gt;</th><th scope=col>&lt;dbl&gt;</th></tr>\n",
       "</thead>\n",
       "<tbody>\n",
       "\t<tr><td>Amateur</td><td> TRUE</td><td>644fe4200c19a73768b3fa598afcbd0948f7557925b7f17166285da23af31cc6</td><td>0.0</td><td>Rhys  </td><td>Male             </td><td>20</td></tr>\n",
       "\t<tr><td>Amateur</td><td> TRUE</td><td>b6e9e593b9ec51c5e335457341c324c34a2239531e1890b93ca52ac1dc76b08f</td><td>0.0</td><td>Bailey</td><td>Female           </td><td>17</td></tr>\n",
       "\t<tr><td>Veteran</td><td>FALSE</td><td>71453e425f07d10da4fa2b349c83e73ccdf0fb3312f778b35c5802c3292c87bd</td><td>0.3</td><td>Pascal</td><td>Male             </td><td>22</td></tr>\n",
       "\t<tr><td>Amateur</td><td>FALSE</td><td>d572f391d452b76ea2d7e5e53a3d38bfd7499c7399db299bd4fedb06a46ad5bb</td><td>0.0</td><td>Dylan </td><td>Prefer not to say</td><td>17</td></tr>\n",
       "\t<tr><td>Amateur</td><td>FALSE</td><td>f19e136ddde68f365afc860c725ccff54307dedd13968e896a9f890c40aea436</td><td>2.3</td><td>Harlow</td><td>Male             </td><td>17</td></tr>\n",
       "\t<tr><td>Pro    </td><td> TRUE</td><td>d9473710057f7d42f36570f0be83817a4eea614029ff90cf50d8889cdd729d11</td><td>0.2</td><td>Ahmed </td><td>Other            </td><td>NA</td></tr>\n",
       "</tbody>\n",
       "</table>\n"
      ],
      "text/latex": [
       "A tibble: 6 × 7\n",
       "\\begin{tabular}{lllllll}\n",
       " experience & subscribe & hashedEmail & played\\_hours & name & gender & Age\\\\\n",
       " <chr> & <lgl> & <chr> & <dbl> & <chr> & <chr> & <dbl>\\\\\n",
       "\\hline\n",
       "\t Amateur &  TRUE & 644fe4200c19a73768b3fa598afcbd0948f7557925b7f17166285da23af31cc6 & 0.0 & Rhys   & Male              & 20\\\\\n",
       "\t Amateur &  TRUE & b6e9e593b9ec51c5e335457341c324c34a2239531e1890b93ca52ac1dc76b08f & 0.0 & Bailey & Female            & 17\\\\\n",
       "\t Veteran & FALSE & 71453e425f07d10da4fa2b349c83e73ccdf0fb3312f778b35c5802c3292c87bd & 0.3 & Pascal & Male              & 22\\\\\n",
       "\t Amateur & FALSE & d572f391d452b76ea2d7e5e53a3d38bfd7499c7399db299bd4fedb06a46ad5bb & 0.0 & Dylan  & Prefer not to say & 17\\\\\n",
       "\t Amateur & FALSE & f19e136ddde68f365afc860c725ccff54307dedd13968e896a9f890c40aea436 & 2.3 & Harlow & Male              & 17\\\\\n",
       "\t Pro     &  TRUE & d9473710057f7d42f36570f0be83817a4eea614029ff90cf50d8889cdd729d11 & 0.2 & Ahmed  & Other             & NA\\\\\n",
       "\\end{tabular}\n"
      ],
      "text/markdown": [
       "\n",
       "A tibble: 6 × 7\n",
       "\n",
       "| experience &lt;chr&gt; | subscribe &lt;lgl&gt; | hashedEmail &lt;chr&gt; | played_hours &lt;dbl&gt; | name &lt;chr&gt; | gender &lt;chr&gt; | Age &lt;dbl&gt; |\n",
       "|---|---|---|---|---|---|---|\n",
       "| Amateur |  TRUE | 644fe4200c19a73768b3fa598afcbd0948f7557925b7f17166285da23af31cc6 | 0.0 | Rhys   | Male              | 20 |\n",
       "| Amateur |  TRUE | b6e9e593b9ec51c5e335457341c324c34a2239531e1890b93ca52ac1dc76b08f | 0.0 | Bailey | Female            | 17 |\n",
       "| Veteran | FALSE | 71453e425f07d10da4fa2b349c83e73ccdf0fb3312f778b35c5802c3292c87bd | 0.3 | Pascal | Male              | 22 |\n",
       "| Amateur | FALSE | d572f391d452b76ea2d7e5e53a3d38bfd7499c7399db299bd4fedb06a46ad5bb | 0.0 | Dylan  | Prefer not to say | 17 |\n",
       "| Amateur | FALSE | f19e136ddde68f365afc860c725ccff54307dedd13968e896a9f890c40aea436 | 2.3 | Harlow | Male              | 17 |\n",
       "| Pro     |  TRUE | d9473710057f7d42f36570f0be83817a4eea614029ff90cf50d8889cdd729d11 | 0.2 | Ahmed  | Other             | NA |\n",
       "\n"
      ],
      "text/plain": [
       "  experience subscribe\n",
       "1 Amateur     TRUE    \n",
       "2 Amateur     TRUE    \n",
       "3 Veteran    FALSE    \n",
       "4 Amateur    FALSE    \n",
       "5 Amateur    FALSE    \n",
       "6 Pro         TRUE    \n",
       "  hashedEmail                                                      played_hours\n",
       "1 644fe4200c19a73768b3fa598afcbd0948f7557925b7f17166285da23af31cc6 0.0         \n",
       "2 b6e9e593b9ec51c5e335457341c324c34a2239531e1890b93ca52ac1dc76b08f 0.0         \n",
       "3 71453e425f07d10da4fa2b349c83e73ccdf0fb3312f778b35c5802c3292c87bd 0.3         \n",
       "4 d572f391d452b76ea2d7e5e53a3d38bfd7499c7399db299bd4fedb06a46ad5bb 0.0         \n",
       "5 f19e136ddde68f365afc860c725ccff54307dedd13968e896a9f890c40aea436 2.3         \n",
       "6 d9473710057f7d42f36570f0be83817a4eea614029ff90cf50d8889cdd729d11 0.2         \n",
       "  name   gender            Age\n",
       "1 Rhys   Male              20 \n",
       "2 Bailey Female            17 \n",
       "3 Pascal Male              22 \n",
       "4 Dylan  Prefer not to say 17 \n",
       "5 Harlow Male              17 \n",
       "6 Ahmed  Other             NA "
      ]
     },
     "metadata": {},
     "output_type": "display_data"
    }
   ],
   "source": [
    "players <- read_csv(\"Data/players.csv\")\n",
    "\n",
    "head(players)\n",
    "tail(players)"
   ]
  },
  {
   "cell_type": "markdown",
   "id": "f92683ad-fad0-40fb-9033-c285e4990ce4",
   "metadata": {},
   "source": [
    "As shown above, the data contained player experience from Amateur to Pro, wether or not they are subscribed, the hashed email, their played hours, their names, gender and ages."
   ]
  },
  {
   "cell_type": "markdown",
   "id": "c41dc819-10bd-42a9-9f97-67b73820b86f",
   "metadata": {},
   "source": [
    "STEP 2: Data Cleaning and Preparation"
   ]
  },
  {
   "cell_type": "markdown",
   "id": "978effa8-80df-49f6-bf19-d34042767f31",
   "metadata": {},
   "source": [
    "Now that we have the data loaded we can see that it requires some cleaning, and since we are not using all the columns such as hashedEmail we can get rid of those. "
   ]
  },
  {
   "cell_type": "code",
   "execution_count": 7,
   "id": "fa0ba38f-6c58-45e6-99dc-5c38a9bfdbef",
   "metadata": {},
   "outputs": [
    {
     "data": {
      "text/html": [
       "<table class=\"dataframe\">\n",
       "<caption>A tibble: 6 × 5</caption>\n",
       "<thead>\n",
       "\t<tr><th scope=col>experience</th><th scope=col>subscribe</th><th scope=col>played_hours</th><th scope=col>gender</th><th scope=col>Age</th></tr>\n",
       "\t<tr><th scope=col>&lt;chr&gt;</th><th scope=col>&lt;lgl&gt;</th><th scope=col>&lt;dbl&gt;</th><th scope=col>&lt;chr&gt;</th><th scope=col>&lt;dbl&gt;</th></tr>\n",
       "</thead>\n",
       "<tbody>\n",
       "\t<tr><td>Pro    </td><td> TRUE</td><td>30.3</td><td>Male  </td><td> 9</td></tr>\n",
       "\t<tr><td>Veteran</td><td> TRUE</td><td> 3.8</td><td>Male  </td><td>17</td></tr>\n",
       "\t<tr><td>Veteran</td><td>FALSE</td><td> 0.0</td><td>Male  </td><td>17</td></tr>\n",
       "\t<tr><td>Amateur</td><td> TRUE</td><td> 0.7</td><td>Female</td><td>21</td></tr>\n",
       "\t<tr><td>Regular</td><td> TRUE</td><td> 0.1</td><td>Male  </td><td>21</td></tr>\n",
       "\t<tr><td>Amateur</td><td> TRUE</td><td> 0.0</td><td>Female</td><td>17</td></tr>\n",
       "</tbody>\n",
       "</table>\n"
      ],
      "text/latex": [
       "A tibble: 6 × 5\n",
       "\\begin{tabular}{lllll}\n",
       " experience & subscribe & played\\_hours & gender & Age\\\\\n",
       " <chr> & <lgl> & <dbl> & <chr> & <dbl>\\\\\n",
       "\\hline\n",
       "\t Pro     &  TRUE & 30.3 & Male   &  9\\\\\n",
       "\t Veteran &  TRUE &  3.8 & Male   & 17\\\\\n",
       "\t Veteran & FALSE &  0.0 & Male   & 17\\\\\n",
       "\t Amateur &  TRUE &  0.7 & Female & 21\\\\\n",
       "\t Regular &  TRUE &  0.1 & Male   & 21\\\\\n",
       "\t Amateur &  TRUE &  0.0 & Female & 17\\\\\n",
       "\\end{tabular}\n"
      ],
      "text/markdown": [
       "\n",
       "A tibble: 6 × 5\n",
       "\n",
       "| experience &lt;chr&gt; | subscribe &lt;lgl&gt; | played_hours &lt;dbl&gt; | gender &lt;chr&gt; | Age &lt;dbl&gt; |\n",
       "|---|---|---|---|---|\n",
       "| Pro     |  TRUE | 30.3 | Male   |  9 |\n",
       "| Veteran |  TRUE |  3.8 | Male   | 17 |\n",
       "| Veteran | FALSE |  0.0 | Male   | 17 |\n",
       "| Amateur |  TRUE |  0.7 | Female | 21 |\n",
       "| Regular |  TRUE |  0.1 | Male   | 21 |\n",
       "| Amateur |  TRUE |  0.0 | Female | 17 |\n",
       "\n"
      ],
      "text/plain": [
       "  experience subscribe played_hours gender Age\n",
       "1 Pro         TRUE     30.3         Male    9 \n",
       "2 Veteran     TRUE      3.8         Male   17 \n",
       "3 Veteran    FALSE      0.0         Male   17 \n",
       "4 Amateur     TRUE      0.7         Female 21 \n",
       "5 Regular     TRUE      0.1         Male   21 \n",
       "6 Amateur     TRUE      0.0         Female 17 "
      ]
     },
     "metadata": {},
     "output_type": "display_data"
    }
   ],
   "source": [
    "players_clean <- select(players, -hashedEmail, -name)\n",
    "head(players_clean)"
   ]
  },
  {
   "cell_type": "markdown",
   "id": "9297f6f5-4713-4979-bc29-82e777eb30cd",
   "metadata": {},
   "source": [
    "Since our goal is to create a linear regression that attempts to predict played_hours using the other variables we need to turn variables such as experience, gender and subscription into factor variables. "
   ]
  },
  {
   "cell_type": "code",
   "execution_count": 9,
   "id": "334f9961-2658-4fd1-9861-38813e1545ca",
   "metadata": {},
   "outputs": [
    {
     "data": {
      "text/html": [
       "<table class=\"dataframe\">\n",
       "<caption>A tibble: 6 × 5</caption>\n",
       "<thead>\n",
       "\t<tr><th scope=col>experience</th><th scope=col>subscribe</th><th scope=col>played_hours</th><th scope=col>gender</th><th scope=col>age</th></tr>\n",
       "\t<tr><th scope=col>&lt;fct&gt;</th><th scope=col>&lt;fct&gt;</th><th scope=col>&lt;dbl&gt;</th><th scope=col>&lt;fct&gt;</th><th scope=col>&lt;dbl&gt;</th></tr>\n",
       "</thead>\n",
       "<tbody>\n",
       "\t<tr><td>Pro    </td><td>TRUE </td><td>30.3</td><td>Male  </td><td> 9</td></tr>\n",
       "\t<tr><td>Veteran</td><td>TRUE </td><td> 3.8</td><td>Male  </td><td>17</td></tr>\n",
       "\t<tr><td>Veteran</td><td>FALSE</td><td> 0.0</td><td>Male  </td><td>17</td></tr>\n",
       "\t<tr><td>Amateur</td><td>TRUE </td><td> 0.7</td><td>Female</td><td>21</td></tr>\n",
       "\t<tr><td>Regular</td><td>TRUE </td><td> 0.1</td><td>Male  </td><td>21</td></tr>\n",
       "\t<tr><td>Amateur</td><td>TRUE </td><td> 0.0</td><td>Female</td><td>17</td></tr>\n",
       "</tbody>\n",
       "</table>\n"
      ],
      "text/latex": [
       "A tibble: 6 × 5\n",
       "\\begin{tabular}{lllll}\n",
       " experience & subscribe & played\\_hours & gender & age\\\\\n",
       " <fct> & <fct> & <dbl> & <fct> & <dbl>\\\\\n",
       "\\hline\n",
       "\t Pro     & TRUE  & 30.3 & Male   &  9\\\\\n",
       "\t Veteran & TRUE  &  3.8 & Male   & 17\\\\\n",
       "\t Veteran & FALSE &  0.0 & Male   & 17\\\\\n",
       "\t Amateur & TRUE  &  0.7 & Female & 21\\\\\n",
       "\t Regular & TRUE  &  0.1 & Male   & 21\\\\\n",
       "\t Amateur & TRUE  &  0.0 & Female & 17\\\\\n",
       "\\end{tabular}\n"
      ],
      "text/markdown": [
       "\n",
       "A tibble: 6 × 5\n",
       "\n",
       "| experience &lt;fct&gt; | subscribe &lt;fct&gt; | played_hours &lt;dbl&gt; | gender &lt;fct&gt; | age &lt;dbl&gt; |\n",
       "|---|---|---|---|---|\n",
       "| Pro     | TRUE  | 30.3 | Male   |  9 |\n",
       "| Veteran | TRUE  |  3.8 | Male   | 17 |\n",
       "| Veteran | FALSE |  0.0 | Male   | 17 |\n",
       "| Amateur | TRUE  |  0.7 | Female | 21 |\n",
       "| Regular | TRUE  |  0.1 | Male   | 21 |\n",
       "| Amateur | TRUE  |  0.0 | Female | 17 |\n",
       "\n"
      ],
      "text/plain": [
       "  experience subscribe played_hours gender age\n",
       "1 Pro        TRUE      30.3         Male    9 \n",
       "2 Veteran    TRUE       3.8         Male   17 \n",
       "3 Veteran    FALSE      0.0         Male   17 \n",
       "4 Amateur    TRUE       0.7         Female 21 \n",
       "5 Regular    TRUE       0.1         Male   21 \n",
       "6 Amateur    TRUE       0.0         Female 17 "
      ]
     },
     "metadata": {},
     "output_type": "display_data"
    }
   ],
   "source": [
    "players_clean <- players_clean |>\n",
    "    mutate(\n",
    "        experience = as.factor(experience),\n",
    "        subscribe = as.factor(subscribe), \n",
    "        gender = as.factor(gender)) |>\n",
    "    rename(age = Age)\n",
    "head(players_clean)"
   ]
  },
  {
   "cell_type": "markdown",
   "id": "3b6bc4dd-4814-482c-b1de-56475255cfde",
   "metadata": {},
   "source": [
    "Now the variables we want to use are factors which will help with our linear regression. I also renamed Age to age for consistency in names"
   ]
  },
  {
   "cell_type": "code",
   "execution_count": null,
   "id": "2e2d5d5d-5b65-44ab-8ae6-e3f964b9302d",
   "metadata": {},
   "outputs": [],
   "source": []
  }
 ],
 "metadata": {
  "kernelspec": {
   "display_name": "R",
   "language": "R",
   "name": "ir"
  },
  "language_info": {
   "codemirror_mode": "r",
   "file_extension": ".r",
   "mimetype": "text/x-r-source",
   "name": "R",
   "pygments_lexer": "r",
   "version": "4.3.3"
  }
 },
 "nbformat": 4,
 "nbformat_minor": 5
}
