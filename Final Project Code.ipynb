{
 "cells": [
  {
   "cell_type": "markdown",
   "id": "79cb30ef-4737-423c-80ae-3ba14e5c4c6f",
   "metadata": {},
   "source": [
    "This project investigates whether player characteristics such as age, gender, experience, and newsletter subscription status can predict how many hours a player contributes to the Minecraft server."
   ]
  },
  {
   "cell_type": "markdown",
   "id": "b44cd8e6-c53d-4dc5-81f3-39bf94504bfa",
   "metadata": {},
   "source": [
    "Introduction: A research group in the faculty of Computer Science at the University of British Columbia, led by Frank Wood collected data from a Minecraft server. This collection was meant to understand how people play video games. One of the main data collected was the players data file which includes a list of all the players along with data such as the level of experience ranging from amateur to pro, whether or not they are subscribed, their hashed email, their name, gender and age. \n",
    "\n",
    "My project consists of building a linear regression with the explanatory variables: experience, subscription, gender and age. This linear regression hopes to answer the question “Can the variables collected from the players data set predict how many hours different players will spend on the server?”. In this case the response variable of interest is the number of played hours. "
   ]
  },
  {
   "cell_type": "markdown",
   "id": "5bb76bff-7898-4862-ae1c-46b1830fd4ad",
   "metadata": {},
   "source": [
    "STEP 1: Loading Libraries and Visualizing Data"
   ]
  },
  {
   "cell_type": "code",
   "execution_count": 1,
   "id": "a030f844-c55c-41fa-a197-44f0c878e094",
   "metadata": {},
   "outputs": [
    {
     "name": "stderr",
     "output_type": "stream",
     "text": [
      "── \u001b[1mAttaching core tidyverse packages\u001b[22m ──────────────────────── tidyverse 2.0.0 ──\n",
      "\u001b[32m✔\u001b[39m \u001b[34mdplyr    \u001b[39m 1.1.4     \u001b[32m✔\u001b[39m \u001b[34mreadr    \u001b[39m 2.1.5\n",
      "\u001b[32m✔\u001b[39m \u001b[34mforcats  \u001b[39m 1.0.0     \u001b[32m✔\u001b[39m \u001b[34mstringr  \u001b[39m 1.5.1\n",
      "\u001b[32m✔\u001b[39m \u001b[34mggplot2  \u001b[39m 3.5.1     \u001b[32m✔\u001b[39m \u001b[34mtibble   \u001b[39m 3.2.1\n",
      "\u001b[32m✔\u001b[39m \u001b[34mlubridate\u001b[39m 1.9.3     \u001b[32m✔\u001b[39m \u001b[34mtidyr    \u001b[39m 1.3.1\n",
      "\u001b[32m✔\u001b[39m \u001b[34mpurrr    \u001b[39m 1.0.2     \n",
      "── \u001b[1mConflicts\u001b[22m ────────────────────────────────────────── tidyverse_conflicts() ──\n",
      "\u001b[31m✖\u001b[39m \u001b[34mdplyr\u001b[39m::\u001b[32mfilter()\u001b[39m masks \u001b[34mstats\u001b[39m::filter()\n",
      "\u001b[31m✖\u001b[39m \u001b[34mdplyr\u001b[39m::\u001b[32mlag()\u001b[39m    masks \u001b[34mstats\u001b[39m::lag()\n",
      "\u001b[36mℹ\u001b[39m Use the conflicted package (\u001b[3m\u001b[34m<http://conflicted.r-lib.org/>\u001b[39m\u001b[23m) to force all conflicts to become errors\n",
      "── \u001b[1mAttaching packages\u001b[22m ────────────────────────────────────── tidymodels 1.1.1 ──\n",
      "\n",
      "\u001b[32m✔\u001b[39m \u001b[34mbroom       \u001b[39m 1.0.6     \u001b[32m✔\u001b[39m \u001b[34mrsample     \u001b[39m 1.2.1\n",
      "\u001b[32m✔\u001b[39m \u001b[34mdials       \u001b[39m 1.3.0     \u001b[32m✔\u001b[39m \u001b[34mtune        \u001b[39m 1.1.2\n",
      "\u001b[32m✔\u001b[39m \u001b[34minfer       \u001b[39m 1.0.7     \u001b[32m✔\u001b[39m \u001b[34mworkflows   \u001b[39m 1.1.4\n",
      "\u001b[32m✔\u001b[39m \u001b[34mmodeldata   \u001b[39m 1.4.0     \u001b[32m✔\u001b[39m \u001b[34mworkflowsets\u001b[39m 1.0.1\n",
      "\u001b[32m✔\u001b[39m \u001b[34mparsnip     \u001b[39m 1.2.1     \u001b[32m✔\u001b[39m \u001b[34myardstick   \u001b[39m 1.3.1\n",
      "\u001b[32m✔\u001b[39m \u001b[34mrecipes     \u001b[39m 1.1.0     \n",
      "\n",
      "── \u001b[1mConflicts\u001b[22m ───────────────────────────────────────── tidymodels_conflicts() ──\n",
      "\u001b[31m✖\u001b[39m \u001b[34mscales\u001b[39m::\u001b[32mdiscard()\u001b[39m masks \u001b[34mpurrr\u001b[39m::discard()\n",
      "\u001b[31m✖\u001b[39m \u001b[34mdplyr\u001b[39m::\u001b[32mfilter()\u001b[39m   masks \u001b[34mstats\u001b[39m::filter()\n",
      "\u001b[31m✖\u001b[39m \u001b[34mrecipes\u001b[39m::\u001b[32mfixed()\u001b[39m  masks \u001b[34mstringr\u001b[39m::fixed()\n",
      "\u001b[31m✖\u001b[39m \u001b[34mdplyr\u001b[39m::\u001b[32mlag()\u001b[39m      masks \u001b[34mstats\u001b[39m::lag()\n",
      "\u001b[31m✖\u001b[39m \u001b[34myardstick\u001b[39m::\u001b[32mspec()\u001b[39m masks \u001b[34mreadr\u001b[39m::spec()\n",
      "\u001b[31m✖\u001b[39m \u001b[34mrecipes\u001b[39m::\u001b[32mstep()\u001b[39m   masks \u001b[34mstats\u001b[39m::step()\n",
      "\u001b[34m•\u001b[39m Use \u001b[32mtidymodels_prefer()\u001b[39m to resolve common conflicts.\n",
      "\n"
     ]
    }
   ],
   "source": [
    "library(tidyverse)\n",
    "library(tidymodels)\n",
    "library(ggplot2)\n",
    "library(RColorBrewer)"
   ]
  },
  {
   "cell_type": "markdown",
   "id": "3b0ddb1b-2461-41ff-8b94-7f6f0f0e2d1c",
   "metadata": {},
   "source": [
    "Following this we can load and visualize the data"
   ]
  },
  {
   "cell_type": "code",
   "execution_count": 2,
   "id": "39cce575-beb7-4d97-9f74-e72bc3c3a1df",
   "metadata": {},
   "outputs": [
    {
     "name": "stderr",
     "output_type": "stream",
     "text": [
      "\u001b[1mRows: \u001b[22m\u001b[34m196\u001b[39m \u001b[1mColumns: \u001b[22m\u001b[34m7\u001b[39m\n",
      "\u001b[36m──\u001b[39m \u001b[1mColumn specification\u001b[22m \u001b[36m────────────────────────────────────────────────────────\u001b[39m\n",
      "\u001b[1mDelimiter:\u001b[22m \",\"\n",
      "\u001b[31mchr\u001b[39m (4): experience, hashedEmail, name, gender\n",
      "\u001b[32mdbl\u001b[39m (2): played_hours, Age\n",
      "\u001b[33mlgl\u001b[39m (1): subscribe\n",
      "\n",
      "\u001b[36mℹ\u001b[39m Use `spec()` to retrieve the full column specification for this data.\n",
      "\u001b[36mℹ\u001b[39m Specify the column types or set `show_col_types = FALSE` to quiet this message.\n"
     ]
    },
    {
     "data": {
      "text/html": [
       "<table class=\"dataframe\">\n",
       "<caption>A tibble: 6 × 7</caption>\n",
       "<thead>\n",
       "\t<tr><th scope=col>experience</th><th scope=col>subscribe</th><th scope=col>hashedEmail</th><th scope=col>played_hours</th><th scope=col>name</th><th scope=col>gender</th><th scope=col>Age</th></tr>\n",
       "\t<tr><th scope=col>&lt;chr&gt;</th><th scope=col>&lt;lgl&gt;</th><th scope=col>&lt;chr&gt;</th><th scope=col>&lt;dbl&gt;</th><th scope=col>&lt;chr&gt;</th><th scope=col>&lt;chr&gt;</th><th scope=col>&lt;dbl&gt;</th></tr>\n",
       "</thead>\n",
       "<tbody>\n",
       "\t<tr><td>Pro    </td><td> TRUE</td><td>f6daba428a5e19a3d47574858c13550499be23603422e6a0ee9728f8b53e192d</td><td>30.3</td><td>Morgan   </td><td>Male  </td><td> 9</td></tr>\n",
       "\t<tr><td>Veteran</td><td> TRUE</td><td>f3c813577c458ba0dfef80996f8f32c93b6e8af1fa939732842f2312358a88e9</td><td> 3.8</td><td>Christian</td><td>Male  </td><td>17</td></tr>\n",
       "\t<tr><td>Veteran</td><td>FALSE</td><td>b674dd7ee0d24096d1c019615ce4d12b20fcbff12d79d3c5a9d2118eb7ccbb28</td><td> 0.0</td><td>Blake    </td><td>Male  </td><td>17</td></tr>\n",
       "\t<tr><td>Amateur</td><td> TRUE</td><td>23fe711e0e3b77f1da7aa221ab1192afe21648d47d2b4fa7a5a659ff443a0eb5</td><td> 0.7</td><td>Flora    </td><td>Female</td><td>21</td></tr>\n",
       "\t<tr><td>Regular</td><td> TRUE</td><td>7dc01f10bf20671ecfccdac23812b1b415acd42c2147cb0af4d48fcce2420f3e</td><td> 0.1</td><td>Kylie    </td><td>Male  </td><td>21</td></tr>\n",
       "\t<tr><td>Amateur</td><td> TRUE</td><td>f58aad5996a435f16b0284a3b267f973f9af99e7a89bee0430055a44fa92f977</td><td> 0.0</td><td>Adrian   </td><td>Female</td><td>17</td></tr>\n",
       "</tbody>\n",
       "</table>\n"
      ],
      "text/latex": [
       "A tibble: 6 × 7\n",
       "\\begin{tabular}{lllllll}\n",
       " experience & subscribe & hashedEmail & played\\_hours & name & gender & Age\\\\\n",
       " <chr> & <lgl> & <chr> & <dbl> & <chr> & <chr> & <dbl>\\\\\n",
       "\\hline\n",
       "\t Pro     &  TRUE & f6daba428a5e19a3d47574858c13550499be23603422e6a0ee9728f8b53e192d & 30.3 & Morgan    & Male   &  9\\\\\n",
       "\t Veteran &  TRUE & f3c813577c458ba0dfef80996f8f32c93b6e8af1fa939732842f2312358a88e9 &  3.8 & Christian & Male   & 17\\\\\n",
       "\t Veteran & FALSE & b674dd7ee0d24096d1c019615ce4d12b20fcbff12d79d3c5a9d2118eb7ccbb28 &  0.0 & Blake     & Male   & 17\\\\\n",
       "\t Amateur &  TRUE & 23fe711e0e3b77f1da7aa221ab1192afe21648d47d2b4fa7a5a659ff443a0eb5 &  0.7 & Flora     & Female & 21\\\\\n",
       "\t Regular &  TRUE & 7dc01f10bf20671ecfccdac23812b1b415acd42c2147cb0af4d48fcce2420f3e &  0.1 & Kylie     & Male   & 21\\\\\n",
       "\t Amateur &  TRUE & f58aad5996a435f16b0284a3b267f973f9af99e7a89bee0430055a44fa92f977 &  0.0 & Adrian    & Female & 17\\\\\n",
       "\\end{tabular}\n"
      ],
      "text/markdown": [
       "\n",
       "A tibble: 6 × 7\n",
       "\n",
       "| experience &lt;chr&gt; | subscribe &lt;lgl&gt; | hashedEmail &lt;chr&gt; | played_hours &lt;dbl&gt; | name &lt;chr&gt; | gender &lt;chr&gt; | Age &lt;dbl&gt; |\n",
       "|---|---|---|---|---|---|---|\n",
       "| Pro     |  TRUE | f6daba428a5e19a3d47574858c13550499be23603422e6a0ee9728f8b53e192d | 30.3 | Morgan    | Male   |  9 |\n",
       "| Veteran |  TRUE | f3c813577c458ba0dfef80996f8f32c93b6e8af1fa939732842f2312358a88e9 |  3.8 | Christian | Male   | 17 |\n",
       "| Veteran | FALSE | b674dd7ee0d24096d1c019615ce4d12b20fcbff12d79d3c5a9d2118eb7ccbb28 |  0.0 | Blake     | Male   | 17 |\n",
       "| Amateur |  TRUE | 23fe711e0e3b77f1da7aa221ab1192afe21648d47d2b4fa7a5a659ff443a0eb5 |  0.7 | Flora     | Female | 21 |\n",
       "| Regular |  TRUE | 7dc01f10bf20671ecfccdac23812b1b415acd42c2147cb0af4d48fcce2420f3e |  0.1 | Kylie     | Male   | 21 |\n",
       "| Amateur |  TRUE | f58aad5996a435f16b0284a3b267f973f9af99e7a89bee0430055a44fa92f977 |  0.0 | Adrian    | Female | 17 |\n",
       "\n"
      ],
      "text/plain": [
       "  experience subscribe\n",
       "1 Pro         TRUE    \n",
       "2 Veteran     TRUE    \n",
       "3 Veteran    FALSE    \n",
       "4 Amateur     TRUE    \n",
       "5 Regular     TRUE    \n",
       "6 Amateur     TRUE    \n",
       "  hashedEmail                                                      played_hours\n",
       "1 f6daba428a5e19a3d47574858c13550499be23603422e6a0ee9728f8b53e192d 30.3        \n",
       "2 f3c813577c458ba0dfef80996f8f32c93b6e8af1fa939732842f2312358a88e9  3.8        \n",
       "3 b674dd7ee0d24096d1c019615ce4d12b20fcbff12d79d3c5a9d2118eb7ccbb28  0.0        \n",
       "4 23fe711e0e3b77f1da7aa221ab1192afe21648d47d2b4fa7a5a659ff443a0eb5  0.7        \n",
       "5 7dc01f10bf20671ecfccdac23812b1b415acd42c2147cb0af4d48fcce2420f3e  0.1        \n",
       "6 f58aad5996a435f16b0284a3b267f973f9af99e7a89bee0430055a44fa92f977  0.0        \n",
       "  name      gender Age\n",
       "1 Morgan    Male    9 \n",
       "2 Christian Male   17 \n",
       "3 Blake     Male   17 \n",
       "4 Flora     Female 21 \n",
       "5 Kylie     Male   21 \n",
       "6 Adrian    Female 17 "
      ]
     },
     "metadata": {},
     "output_type": "display_data"
    },
    {
     "data": {
      "text/html": [
       "<table class=\"dataframe\">\n",
       "<caption>A tibble: 6 × 7</caption>\n",
       "<thead>\n",
       "\t<tr><th scope=col>experience</th><th scope=col>subscribe</th><th scope=col>hashedEmail</th><th scope=col>played_hours</th><th scope=col>name</th><th scope=col>gender</th><th scope=col>Age</th></tr>\n",
       "\t<tr><th scope=col>&lt;chr&gt;</th><th scope=col>&lt;lgl&gt;</th><th scope=col>&lt;chr&gt;</th><th scope=col>&lt;dbl&gt;</th><th scope=col>&lt;chr&gt;</th><th scope=col>&lt;chr&gt;</th><th scope=col>&lt;dbl&gt;</th></tr>\n",
       "</thead>\n",
       "<tbody>\n",
       "\t<tr><td>Amateur</td><td> TRUE</td><td>644fe4200c19a73768b3fa598afcbd0948f7557925b7f17166285da23af31cc6</td><td>0.0</td><td>Rhys  </td><td>Male             </td><td>20</td></tr>\n",
       "\t<tr><td>Amateur</td><td> TRUE</td><td>b6e9e593b9ec51c5e335457341c324c34a2239531e1890b93ca52ac1dc76b08f</td><td>0.0</td><td>Bailey</td><td>Female           </td><td>17</td></tr>\n",
       "\t<tr><td>Veteran</td><td>FALSE</td><td>71453e425f07d10da4fa2b349c83e73ccdf0fb3312f778b35c5802c3292c87bd</td><td>0.3</td><td>Pascal</td><td>Male             </td><td>22</td></tr>\n",
       "\t<tr><td>Amateur</td><td>FALSE</td><td>d572f391d452b76ea2d7e5e53a3d38bfd7499c7399db299bd4fedb06a46ad5bb</td><td>0.0</td><td>Dylan </td><td>Prefer not to say</td><td>17</td></tr>\n",
       "\t<tr><td>Amateur</td><td>FALSE</td><td>f19e136ddde68f365afc860c725ccff54307dedd13968e896a9f890c40aea436</td><td>2.3</td><td>Harlow</td><td>Male             </td><td>17</td></tr>\n",
       "\t<tr><td>Pro    </td><td> TRUE</td><td>d9473710057f7d42f36570f0be83817a4eea614029ff90cf50d8889cdd729d11</td><td>0.2</td><td>Ahmed </td><td>Other            </td><td>NA</td></tr>\n",
       "</tbody>\n",
       "</table>\n"
      ],
      "text/latex": [
       "A tibble: 6 × 7\n",
       "\\begin{tabular}{lllllll}\n",
       " experience & subscribe & hashedEmail & played\\_hours & name & gender & Age\\\\\n",
       " <chr> & <lgl> & <chr> & <dbl> & <chr> & <chr> & <dbl>\\\\\n",
       "\\hline\n",
       "\t Amateur &  TRUE & 644fe4200c19a73768b3fa598afcbd0948f7557925b7f17166285da23af31cc6 & 0.0 & Rhys   & Male              & 20\\\\\n",
       "\t Amateur &  TRUE & b6e9e593b9ec51c5e335457341c324c34a2239531e1890b93ca52ac1dc76b08f & 0.0 & Bailey & Female            & 17\\\\\n",
       "\t Veteran & FALSE & 71453e425f07d10da4fa2b349c83e73ccdf0fb3312f778b35c5802c3292c87bd & 0.3 & Pascal & Male              & 22\\\\\n",
       "\t Amateur & FALSE & d572f391d452b76ea2d7e5e53a3d38bfd7499c7399db299bd4fedb06a46ad5bb & 0.0 & Dylan  & Prefer not to say & 17\\\\\n",
       "\t Amateur & FALSE & f19e136ddde68f365afc860c725ccff54307dedd13968e896a9f890c40aea436 & 2.3 & Harlow & Male              & 17\\\\\n",
       "\t Pro     &  TRUE & d9473710057f7d42f36570f0be83817a4eea614029ff90cf50d8889cdd729d11 & 0.2 & Ahmed  & Other             & NA\\\\\n",
       "\\end{tabular}\n"
      ],
      "text/markdown": [
       "\n",
       "A tibble: 6 × 7\n",
       "\n",
       "| experience &lt;chr&gt; | subscribe &lt;lgl&gt; | hashedEmail &lt;chr&gt; | played_hours &lt;dbl&gt; | name &lt;chr&gt; | gender &lt;chr&gt; | Age &lt;dbl&gt; |\n",
       "|---|---|---|---|---|---|---|\n",
       "| Amateur |  TRUE | 644fe4200c19a73768b3fa598afcbd0948f7557925b7f17166285da23af31cc6 | 0.0 | Rhys   | Male              | 20 |\n",
       "| Amateur |  TRUE | b6e9e593b9ec51c5e335457341c324c34a2239531e1890b93ca52ac1dc76b08f | 0.0 | Bailey | Female            | 17 |\n",
       "| Veteran | FALSE | 71453e425f07d10da4fa2b349c83e73ccdf0fb3312f778b35c5802c3292c87bd | 0.3 | Pascal | Male              | 22 |\n",
       "| Amateur | FALSE | d572f391d452b76ea2d7e5e53a3d38bfd7499c7399db299bd4fedb06a46ad5bb | 0.0 | Dylan  | Prefer not to say | 17 |\n",
       "| Amateur | FALSE | f19e136ddde68f365afc860c725ccff54307dedd13968e896a9f890c40aea436 | 2.3 | Harlow | Male              | 17 |\n",
       "| Pro     |  TRUE | d9473710057f7d42f36570f0be83817a4eea614029ff90cf50d8889cdd729d11 | 0.2 | Ahmed  | Other             | NA |\n",
       "\n"
      ],
      "text/plain": [
       "  experience subscribe\n",
       "1 Amateur     TRUE    \n",
       "2 Amateur     TRUE    \n",
       "3 Veteran    FALSE    \n",
       "4 Amateur    FALSE    \n",
       "5 Amateur    FALSE    \n",
       "6 Pro         TRUE    \n",
       "  hashedEmail                                                      played_hours\n",
       "1 644fe4200c19a73768b3fa598afcbd0948f7557925b7f17166285da23af31cc6 0.0         \n",
       "2 b6e9e593b9ec51c5e335457341c324c34a2239531e1890b93ca52ac1dc76b08f 0.0         \n",
       "3 71453e425f07d10da4fa2b349c83e73ccdf0fb3312f778b35c5802c3292c87bd 0.3         \n",
       "4 d572f391d452b76ea2d7e5e53a3d38bfd7499c7399db299bd4fedb06a46ad5bb 0.0         \n",
       "5 f19e136ddde68f365afc860c725ccff54307dedd13968e896a9f890c40aea436 2.3         \n",
       "6 d9473710057f7d42f36570f0be83817a4eea614029ff90cf50d8889cdd729d11 0.2         \n",
       "  name   gender            Age\n",
       "1 Rhys   Male              20 \n",
       "2 Bailey Female            17 \n",
       "3 Pascal Male              22 \n",
       "4 Dylan  Prefer not to say 17 \n",
       "5 Harlow Male              17 \n",
       "6 Ahmed  Other             NA "
      ]
     },
     "metadata": {},
     "output_type": "display_data"
    }
   ],
   "source": [
    "players <- read_csv(\"Data/players.csv\")\n",
    "\n",
    "head(players)\n",
    "tail(players)"
   ]
  },
  {
   "cell_type": "code",
   "execution_count": 3,
   "id": "a892b492-187d-46d4-bdf7-dd27e7366860",
   "metadata": {},
   "outputs": [
    {
     "data": {
      "text/plain": [
       "  experience        subscribe       hashedEmail         played_hours    \n",
       " Length:196         Mode :logical   Length:196         Min.   :  0.000  \n",
       " Class :character   FALSE:52        Class :character   1st Qu.:  0.000  \n",
       " Mode  :character   TRUE :144       Mode  :character   Median :  0.100  \n",
       "                                                       Mean   :  5.846  \n",
       "                                                       3rd Qu.:  0.600  \n",
       "                                                       Max.   :223.100  \n",
       "                                                                        \n",
       "     name              gender               Age       \n",
       " Length:196         Length:196         Min.   : 8.00  \n",
       " Class :character   Class :character   1st Qu.:17.00  \n",
       " Mode  :character   Mode  :character   Median :19.00  \n",
       "                                       Mean   :20.52  \n",
       "                                       3rd Qu.:22.00  \n",
       "                                       Max.   :50.00  \n",
       "                                       NA's   :2      "
      ]
     },
     "metadata": {},
     "output_type": "display_data"
    }
   ],
   "source": [
    "summary(players)"
   ]
  },
  {
   "cell_type": "markdown",
   "id": "f92683ad-fad0-40fb-9033-c285e4990ce4",
   "metadata": {},
   "source": [
    "The players data set contains 196 observations. In this analysis we will ignore the variables names and hashed emails as they are not useful for the regression. The variable experience shows the experience level of the players and it ranges from: \n",
    "“Amateur”, “Beginner”, “Pro”, “Regular”, and “Veteran”.\n",
    "\n",
    "Then there is the subscribe variable which is a simple TRUE or FALSE output. The played_hours variable shows the amount of time played in hours. The age variable contains the age of the players. Finally, we have the gender variables which contain the outputs: \n",
    "“Agender”, “Female”, “Male”, “Non-Binary”, “Other”, “Prefer not to say”, and “Two-Spirited”.  \n",
    "\n",
    "\n",
    "The data has a median of 0.10 hours and a mean of 5.85 hours with the maximum observation being 223 hours played. This will become important later on as we need to modify how we build the regression to accommodate for having such an extreme. \n"
   ]
  },
  {
   "cell_type": "markdown",
   "id": "c3b5e1fb-0679-47f0-aceb-aea4fdc91f62",
   "metadata": {},
   "source": [
    "Methods and Results: \n",
    "\n",
    "\n",
    "The main method I used in my analysis was linear regression. To start I loaded all the libraries I needed for my analysis which included tidyverse, tidymodels, ggplot2 and RColorBrewer. \n",
    "    \n",
    "At this point I performed a summary to find out important information about the data. From this point I found the mean and the median hours played which contained important information and made me realize that it would be important to filter the data by played hours because there are very few people that played above that threshold.\n"
   ]
  },
  {
   "cell_type": "markdown",
   "id": "c41dc819-10bd-42a9-9f97-67b73820b86f",
   "metadata": {},
   "source": [
    "STEP 2: Data Cleaning and Preparation"
   ]
  },
  {
   "cell_type": "markdown",
   "id": "978effa8-80df-49f6-bf19-d34042767f31",
   "metadata": {},
   "source": [
    "The second step was data wrangling: \n"
   ]
  },
  {
   "cell_type": "code",
   "execution_count": 26,
   "id": "fa0ba38f-6c58-45e6-99dc-5c38a9bfdbef",
   "metadata": {},
   "outputs": [
    {
     "data": {
      "text/html": [
       "<table class=\"dataframe\">\n",
       "<caption>A tibble: 6 × 5</caption>\n",
       "<thead>\n",
       "\t<tr><th scope=col>experience</th><th scope=col>subscribe</th><th scope=col>played_hours</th><th scope=col>gender</th><th scope=col>Age</th></tr>\n",
       "\t<tr><th scope=col>&lt;chr&gt;</th><th scope=col>&lt;lgl&gt;</th><th scope=col>&lt;dbl&gt;</th><th scope=col>&lt;chr&gt;</th><th scope=col>&lt;dbl&gt;</th></tr>\n",
       "</thead>\n",
       "<tbody>\n",
       "\t<tr><td>Pro    </td><td> TRUE</td><td>30.3</td><td>Male  </td><td> 9</td></tr>\n",
       "\t<tr><td>Veteran</td><td> TRUE</td><td> 3.8</td><td>Male  </td><td>17</td></tr>\n",
       "\t<tr><td>Veteran</td><td>FALSE</td><td> 0.0</td><td>Male  </td><td>17</td></tr>\n",
       "\t<tr><td>Amateur</td><td> TRUE</td><td> 0.7</td><td>Female</td><td>21</td></tr>\n",
       "\t<tr><td>Regular</td><td> TRUE</td><td> 0.1</td><td>Male  </td><td>21</td></tr>\n",
       "\t<tr><td>Amateur</td><td> TRUE</td><td> 0.0</td><td>Female</td><td>17</td></tr>\n",
       "</tbody>\n",
       "</table>\n"
      ],
      "text/latex": [
       "A tibble: 6 × 5\n",
       "\\begin{tabular}{lllll}\n",
       " experience & subscribe & played\\_hours & gender & Age\\\\\n",
       " <chr> & <lgl> & <dbl> & <chr> & <dbl>\\\\\n",
       "\\hline\n",
       "\t Pro     &  TRUE & 30.3 & Male   &  9\\\\\n",
       "\t Veteran &  TRUE &  3.8 & Male   & 17\\\\\n",
       "\t Veteran & FALSE &  0.0 & Male   & 17\\\\\n",
       "\t Amateur &  TRUE &  0.7 & Female & 21\\\\\n",
       "\t Regular &  TRUE &  0.1 & Male   & 21\\\\\n",
       "\t Amateur &  TRUE &  0.0 & Female & 17\\\\\n",
       "\\end{tabular}\n"
      ],
      "text/markdown": [
       "\n",
       "A tibble: 6 × 5\n",
       "\n",
       "| experience &lt;chr&gt; | subscribe &lt;lgl&gt; | played_hours &lt;dbl&gt; | gender &lt;chr&gt; | Age &lt;dbl&gt; |\n",
       "|---|---|---|---|---|\n",
       "| Pro     |  TRUE | 30.3 | Male   |  9 |\n",
       "| Veteran |  TRUE |  3.8 | Male   | 17 |\n",
       "| Veteran | FALSE |  0.0 | Male   | 17 |\n",
       "| Amateur |  TRUE |  0.7 | Female | 21 |\n",
       "| Regular |  TRUE |  0.1 | Male   | 21 |\n",
       "| Amateur |  TRUE |  0.0 | Female | 17 |\n",
       "\n"
      ],
      "text/plain": [
       "  experience subscribe played_hours gender Age\n",
       "1 Pro         TRUE     30.3         Male    9 \n",
       "2 Veteran     TRUE      3.8         Male   17 \n",
       "3 Veteran    FALSE      0.0         Male   17 \n",
       "4 Amateur     TRUE      0.7         Female 21 \n",
       "5 Regular     TRUE      0.1         Male   21 \n",
       "6 Amateur     TRUE      0.0         Female 17 "
      ]
     },
     "metadata": {},
     "output_type": "display_data"
    }
   ],
   "source": [
    "players_clean <- select(players, -hashedEmail, -name)\n",
    "head(players_clean)"
   ]
  },
  {
   "cell_type": "markdown",
   "id": "9297f6f5-4713-4979-bc29-82e777eb30cd",
   "metadata": {},
   "source": [
    "I focused on getting rid of the column names and emails because they did not provide any useful information needed for my analysis. After that I noticed that the columns gender, experience, and subscribe were not factors which was an important correction I needed to do before actually performing my analysis. The data was already tidy so there was not much need to do anything else.\n"
   ]
  },
  {
   "cell_type": "code",
   "execution_count": 4,
   "id": "334f9961-2658-4fd1-9861-38813e1545ca",
   "metadata": {},
   "outputs": [
    {
     "ename": "ERROR",
     "evalue": "Error in eval(expr, envir, enclos): object 'players_clean' not found\n",
     "output_type": "error",
     "traceback": [
      "Error in eval(expr, envir, enclos): object 'players_clean' not found\nTraceback:\n",
      "1. rename(mutate(players_clean, experience = as.factor(experience), \n .     subscribe = as.factor(subscribe), gender = as.factor(gender)), \n .     age = Age)",
      "2. mutate(players_clean, experience = as.factor(experience), subscribe = as.factor(subscribe), \n .     gender = as.factor(gender))"
     ]
    }
   ],
   "source": [
    "players_clean <- players_clean |>\n",
    "    mutate(\n",
    "        experience = as.factor(experience),\n",
    "        subscribe = as.factor(subscribe), \n",
    "        gender = as.factor(gender)) |>\n",
    "    rename(age = Age)\n",
    "head(players_clean)"
   ]
  },
  {
   "cell_type": "markdown",
   "id": "3b6bc4dd-4814-482c-b1de-56475255cfde",
   "metadata": {},
   "source": [
    "Now the variables we want to use are factors which will help with our linear regression. I also renamed Age to age for consistency in names"
   ]
  },
  {
   "cell_type": "markdown",
   "id": "8952dc16-b0c6-45d0-9437-4a876073719f",
   "metadata": {},
   "source": [
    "STEP 3: Visualizing and Final Cleaning"
   ]
  },
  {
   "cell_type": "markdown",
   "id": "f2ddb1c9-2306-4481-b80e-07ef28ee5ff3",
   "metadata": {},
   "source": [
    "I proceed with step 3: Visualizing and Final Cleaning. In this step I wanted to get an idea of what the data looked like before creating a linear representation which I considered ideal since played_hours is a numeric and continuous variable and the goal was to predict a continuous outcome from a set of known predictors which made sense for a linear regression. \n",
    "\n",
    "This is how I graphed the data, I chose age as the quantitative variable on the x axis and used y to graph the number of hours played. I used color and shape to represent the categorical variables experience and gender. I chose the appropriate scatter plot graph with the correct labels and limited y to 20 hours which was what I wanted to do to capture the necessary information. I used 20 hours because it seemed like a reasonable amount of time to limit spending in Minecraft server and it aligned with data collected. I made sure to also use labels for everything and included a colour blind friendly palette. This plot showed that there could actually be a negative linear relationship between the age and the time played in hours which made me go ahead with the linear regression. After that I completed the filtering of played hours to 20 or under and created a new summary. Which now captured 186 observations and has a new mean of 0.70 closer to the median."
   ]
  },
  {
   "cell_type": "code",
   "execution_count": 5,
   "id": "a03022db-3170-4074-93e3-fd059d16efaf",
   "metadata": {},
   "outputs": [
    {
     "ename": "ERROR",
     "evalue": "Error in eval(expr, envir, enclos): object 'players_clean' not found\n",
     "output_type": "error",
     "traceback": [
      "Error in eval(expr, envir, enclos): object 'players_clean' not found\nTraceback:\n",
      "1. ggplot(players_clean, aes(x = age, y = played_hours, color = experience, \n .     shape = gender))"
     ]
    }
   ],
   "source": [
    "players_clean_plot <- players_clean |>\n",
    "    ggplot(aes(x = age, y = played_hours, color = experience, shape = gender)) +\n",
    "    geom_point(alpha = 0.7) +\n",
    "    labs(x = \"Age\", y = \"Time Played (in Hours)\", color = \"Experience Level\",\n",
    "        shape = \"Gender\", title = \"Played Hours vs. Age\") +\n",
    "    theme(text = element_text(size = 12)) +\n",
    "    ylim(0, 20) +\n",
    "    scale_color_brewer(palette = \"Dark2\")\n",
    "\n",
    "players_clean_plot"
   ]
  },
  {
   "cell_type": "markdown",
   "id": "0b6bf1c9-53a2-42a3-87e8-04a8462b75dc",
   "metadata": {},
   "source": [
    "The graph above shows that initially just by looking at age vs time played there does not seem to be a lot of correlation in the data. However, we learnt something important which is that most of the time played data collected is concentrated in lower hours ~ 20 to 0 hours. This means that we have a few outliers outside of that data that can greatly affect our linear regression so we will not include those in our model."
   ]
  },
  {
   "cell_type": "code",
   "execution_count": 6,
   "id": "79097bc7-8bed-414e-ac7d-55b64ead3952",
   "metadata": {},
   "outputs": [
    {
     "ename": "ERROR",
     "evalue": "Error in eval(expr, envir, enclos): object 'players_clean' not found\n",
     "output_type": "error",
     "traceback": [
      "Error in eval(expr, envir, enclos): object 'players_clean' not found\nTraceback:\n",
      "1. filter(players_clean, played_hours <= 20)"
     ]
    }
   ],
   "source": [
    "players_clean <- players_clean |>\n",
    "    filter(played_hours <= 20)\n",
    "\n",
    "summary(players_clean)"
   ]
  },
  {
   "cell_type": "markdown",
   "id": "84f960d4-3f13-45a0-9cbf-9b57a7e2cafc",
   "metadata": {},
   "source": [
    "STEP 4: Building and Evaluating Linear Regression Model"
   ]
  },
  {
   "cell_type": "markdown",
   "id": "3eeed0dd-8551-4d58-b4f2-a375eee1ca8c",
   "metadata": {},
   "source": [
    "The final step was to build and evaluate the linear regression model. As mentioned above this method is appropriate given the trend shown by the graph and the nature of the variables. I assumed that there is a linearity in the predictors and the response variable as well as assumptions of how the data was collected such as independent and random samples. I am also assuming that there is no multicollinearity which means that the predictor variables are not highly correlated with one another. The weaknesses of this model lie in any of these assumptions being wrong, and the data having any non linear trends that my model might not be able to capture. \n"
   ]
  },
  {
   "cell_type": "code",
   "execution_count": 30,
   "id": "c6b09621-6ca6-48bd-a643-9fee6fe0dd18",
   "metadata": {},
   "outputs": [],
   "source": [
    "set.seed(32)\n",
    "\n",
    "players_split <- initial_split(players_clean, prop = 0.75)\n",
    "players_training <- training(players_split)\n",
    "players_testing <- testing(players_split)"
   ]
  },
  {
   "cell_type": "markdown",
   "id": "1ddeea27-4c81-446b-89c6-60600aaf2755",
   "metadata": {},
   "source": [
    "I set a seed and created a 75% split with training and testing data. With this split I created a recipe and a specification for the linear model: \n"
   ]
  },
  {
   "cell_type": "code",
   "execution_count": 31,
   "id": "277d0ae7-92d7-4563-9c68-1d862619d951",
   "metadata": {},
   "outputs": [],
   "source": [
    "players_recipe <- recipe(played_hours ~ age + gender + experience + subscribe, data = players_training) |>\n",
    "    step_dummy(all_nominal_predictors())\n",
    "\n",
    "lm_spec <- linear_reg() |>\n",
    "    set_engine(\"lm\") |>\n",
    "    set_mode(\"regression\")"
   ]
  },
  {
   "cell_type": "markdown",
   "id": "1f18c7d4-1ed7-46c6-ba66-7ada26f31b53",
   "metadata": {},
   "source": [
    "This step contains an important observation which was the use of step_dummy. Since we have predictors that are factors, the step_dummy converts those to numerical values such as 0, 1. This allows those factors to become predictors in our model. The information I used to use this function is contained in https://recipes.tidymodels.org/reference/step_dummy.html. The rest is a standard recipe and linear regression. I fitted the model and got ready to test it with the testing data. \n"
   ]
  },
  {
   "cell_type": "code",
   "execution_count": 32,
   "id": "ba96160c-da1e-4cf4-bc1e-b0a6e1434e93",
   "metadata": {},
   "outputs": [
    {
     "data": {
      "text/plain": [
       "══ Workflow [trained] ══════════════════════════════════════════════════════════\n",
       "\u001b[3mPreprocessor:\u001b[23m Recipe\n",
       "\u001b[3mModel:\u001b[23m linear_reg()\n",
       "\n",
       "── Preprocessor ────────────────────────────────────────────────────────────────\n",
       "1 Recipe Step\n",
       "\n",
       "• step_dummy()\n",
       "\n",
       "── Model ───────────────────────────────────────────────────────────────────────\n",
       "\n",
       "Call:\n",
       "stats::lm(formula = ..y ~ ., data = data)\n",
       "\n",
       "Coefficients:\n",
       "             (Intercept)                       age             gender_Female  \n",
       "                 7.09777                  -0.02125                  -5.92770  \n",
       "             gender_Male         gender_Non.binary              gender_Other  \n",
       "                -5.87636                  -5.92750                        NA  \n",
       "gender_Prefer.not.to.say       gender_Two.Spirited       experience_Beginner  \n",
       "                -5.77631                  -6.59794                  -0.40387  \n",
       "          experience_Pro        experience_Regular        experience_Veteran  \n",
       "                -0.47043                  -0.29354                  -0.49161  \n",
       "         subscribe_TRUE.  \n",
       "                 0.14315  \n"
      ]
     },
     "metadata": {},
     "output_type": "display_data"
    }
   ],
   "source": [
    "players_fit <- workflow() |>\n",
    "    add_recipe(players_recipe) |>\n",
    "    add_model(lm_spec) |>\n",
    "    fit(data = players_training)\n",
    "\n",
    "players_fit"
   ]
  },
  {
   "cell_type": "markdown",
   "id": "dfc10740-6d05-44bf-aee0-973cea64afb4",
   "metadata": {},
   "source": [
    "I did not create any visualization for the analysis because given the nature of the linear regression with multiple variables it would not have been an analysis that would have been easy to understand. \n"
   ]
  },
  {
   "cell_type": "code",
   "execution_count": 35,
   "id": "91cc06e8-d930-4d3a-9db4-d72317de77c0",
   "metadata": {},
   "outputs": [
    {
     "name": "stderr",
     "output_type": "stream",
     "text": [
      "Warning message in predict.lm(object = object$fit, newdata = new_data, type = \"response\", :\n",
      "“prediction from rank-deficient fit; consider predict(., rankdeficient=\"NA\")”\n"
     ]
    },
    {
     "data": {
      "text/html": [
       "<table class=\"dataframe\">\n",
       "<caption>A tibble: 1 × 1</caption>\n",
       "<thead>\n",
       "\t<tr><th scope=col>.estimate</th></tr>\n",
       "\t<tr><th scope=col>&lt;dbl&gt;</th></tr>\n",
       "</thead>\n",
       "<tbody>\n",
       "\t<tr><td>3.04623</td></tr>\n",
       "</tbody>\n",
       "</table>\n"
      ],
      "text/latex": [
       "A tibble: 1 × 1\n",
       "\\begin{tabular}{l}\n",
       " .estimate\\\\\n",
       " <dbl>\\\\\n",
       "\\hline\n",
       "\t 3.04623\\\\\n",
       "\\end{tabular}\n"
      ],
      "text/markdown": [
       "\n",
       "A tibble: 1 × 1\n",
       "\n",
       "| .estimate &lt;dbl&gt; |\n",
       "|---|\n",
       "| 3.04623 |\n",
       "\n"
      ],
      "text/plain": [
       "  .estimate\n",
       "1 3.04623  "
      ]
     },
     "metadata": {},
     "output_type": "display_data"
    }
   ],
   "source": [
    "players_predictions <- predict(players_fit, players_testing) %>%\n",
    "  bind_cols(players_testing)\n",
    "metrics <- metrics(players_predictions, truth = played_hours, estimate = .pred) |>\n",
    "    filter(.metric == \"rmse\") |>\n",
    "    select(.estimate)\n",
    "\n",
    "metrics"
   ]
  },
  {
   "cell_type": "markdown",
   "id": "bf1bf0af-3d1c-4bf0-a07c-24cb11de6f4a",
   "metadata": {},
   "source": [
    "Discussion: \n",
    "This got me a RMSPE of 3.04 which is not ideal given the very low mean. This means that the average error was around 3 hours. I expected the data to be much closer and not have an error that high. The main thing that must have gone wrong was the 20 hour ceiling was too low and I should have used an even lower threshold to capture the accurate data of all the hours played. This finding however, could still be helpful in the future and it could lead into questioning specifically the correlation between play time and skill level and finding a relationship between whether good players are the ones who spend the most amount of time playing a game.\n"
   ]
  },
  {
   "cell_type": "code",
   "execution_count": 34,
   "id": "d392c508-876c-4013-8957-a98f990b841d",
   "metadata": {},
   "outputs": [
    {
     "data": {
      "text/plain": [
       "   Min. 1st Qu.  Median    Mean 3rd Qu.    Max. \n",
       "  0.000   0.000   0.100   5.846   0.600 223.100 "
      ]
     },
     "metadata": {},
     "output_type": "display_data"
    }
   ],
   "source": [
    "summary(players$played_hours)"
   ]
  },
  {
   "cell_type": "markdown",
   "id": "5a37756a-4a7d-45ba-9b0b-aef91ccf99b4",
   "metadata": {},
   "source": [
    "Github Link: https://github.com/Javi-b32/DSCI-100--Final-Project.git"
   ]
  },
  {
   "cell_type": "markdown",
   "id": "91feae8a-0eab-4987-b448-92e45cec8840",
   "metadata": {},
   "source": [
    "References \n",
    "\n",
    "https://recipes.tidymodels.org/reference/step_dummy.html\n"
   ]
  },
  {
   "cell_type": "code",
   "execution_count": null,
   "id": "8476c04e-1c06-4ed9-b0e8-ce64b6fc4daf",
   "metadata": {},
   "outputs": [],
   "source": []
  },
  {
   "cell_type": "code",
   "execution_count": null,
   "id": "b5e58c94-a543-43c5-a247-dbfdfaeb5e7b",
   "metadata": {},
   "outputs": [],
   "source": []
  }
 ],
 "metadata": {
  "kernelspec": {
   "display_name": "R",
   "language": "R",
   "name": "ir"
  },
  "language_info": {
   "codemirror_mode": "r",
   "file_extension": ".r",
   "mimetype": "text/x-r-source",
   "name": "R",
   "pygments_lexer": "r",
   "version": "4.3.3"
  }
 },
 "nbformat": 4,
 "nbformat_minor": 5
}
