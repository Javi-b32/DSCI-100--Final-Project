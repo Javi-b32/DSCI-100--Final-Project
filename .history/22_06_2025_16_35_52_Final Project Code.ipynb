{
 "cells": [
  {
   "cell_type": "markdown",
   "id": "79cb30ef-4737-423c-80ae-3ba14e5c4c6f",
   "metadata": {},
   "source": [
    "This project investigates whether player characteristics such as age, gender, experience, and newsletter subscription status can predict how many hours a player contributes to the Minecraft server."
   ]
  },
  {
   "cell_type": "markdown",
   "id": "5bb76bff-7898-4862-ae1c-46b1830fd4ad",
   "metadata": {},
   "source": [
    "STEP 1: Loading Data and "
   ]
  },
  {
   "cell_type": "code",
   "execution_count": null,
   "id": "a030f844-c55c-41fa-a197-44f0c878e094",
   "metadata": {},
   "outputs": [],
   "source": [
    "library(tidyverse)"
   ]
  },
  {
   "cell_type": "markdown",
   "id": "3b0ddb1b-2461-41ff-8b94-7f6f0f0e2d1c",
   "metadata": {},
   "source": [
    "Following this we can load and visualize the data"
   ]
  },
  {
   "cell_type": "code",
   "execution_count": null,
   "id": "39cce575-beb7-4d97-9f74-e72bc3c3a1df",
   "metadata": {},
   "outputs": [],
   "source": [
    "players <- read_csv(\"Data/players.csv\")\n",
    "\n",
    "head(players)\n",
    "tail(players)"
   ]
  },
  {
   "cell_type": "markdown",
   "id": "f92683ad-fad0-40fb-9033-c285e4990ce4",
   "metadata": {},
   "source": [
    "As shown above, the data contained player experience from Amateur to Pro, wether or not they are subscribed, the hashed email, their played hours, their names, gender and ages."
   ]
  },
  {
   "cell_type": "markdown",
   "id": "c41dc819-10bd-42a9-9f97-67b73820b86f",
   "metadata": {},
   "source": []
  }
 ],
 "metadata": {
  "kernelspec": {
   "display_name": "R",
   "language": "R",
   "name": "ir"
  },
  "language_info": {
   "codemirror_mode": "r",
   "file_extension": ".r",
   "mimetype": "text/x-r-source",
   "name": "R",
   "pygments_lexer": "r",
   "version": "4.3.3"
  }
 },
 "nbformat": 4,
 "nbformat_minor": 5
}
