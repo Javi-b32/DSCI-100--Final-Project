{
 "cells": [
  {
   "cell_type": "markdown",
   "id": "79cb30ef-4737-423c-80ae-3ba14e5c4c6f",
   "metadata": {},
   "source": [
    "This project investigates whether player characteristics such as age, gender, experience, and newsletter subscription status can predict how many hours a player contributes to the Minecraft server."
   ]
  },
  {
   "cell_type": "markdown",
   "id": "5bb76bff-7898-4862-ae1c-46b1830fd4ad",
   "metadata": {},
   "source": [
    "STEP 1: Loading Libraries and Visualizing Data"
   ]
  },
  {
   "cell_type": "code",
   "execution_count": null,
   "id": "a030f844-c55c-41fa-a197-44f0c878e094",
   "metadata": {},
   "outputs": [],
   "source": [
    "library(tidyverse)\n",
    "library(tidymodels)\n",
    "library(ggplot2)\n",
    "library(RColorBrewer)"
   ]
  },
  {
   "cell_type": "markdown",
   "id": "3b0ddb1b-2461-41ff-8b94-7f6f0f0e2d1c",
   "metadata": {},
   "source": [
    "Following this we can load and visualize the data"
   ]
  },
  {
   "cell_type": "code",
   "execution_count": null,
   "id": "39cce575-beb7-4d97-9f74-e72bc3c3a1df",
   "metadata": {},
   "outputs": [],
   "source": [
    "players <- read_csv(\"Data/players.csv\")\n",
    "\n",
    "head(players)\n",
    "tail(players)"
   ]
  },
  {
   "cell_type": "markdown",
   "id": "f92683ad-fad0-40fb-9033-c285e4990ce4",
   "metadata": {},
   "source": [
    "As shown above, the data contained player experience from Amateur to Pro, wether or not they are subscribed, the hashed email, their played hours, their names, gender and ages."
   ]
  },
  {
   "cell_type": "markdown",
   "id": "c41dc819-10bd-42a9-9f97-67b73820b86f",
   "metadata": {},
   "source": [
    "STEP 2: Data Cleaning and Preparation"
   ]
  },
  {
   "cell_type": "markdown",
   "id": "978effa8-80df-49f6-bf19-d34042767f31",
   "metadata": {},
   "source": [
    "Now that we have the data loaded we can see that it requires some cleaning, and since we are not using all the columns such as hashedEmail we can get rid of those. "
   ]
  },
  {
   "cell_type": "code",
   "execution_count": null,
   "id": "fa0ba38f-6c58-45e6-99dc-5c38a9bfdbef",
   "metadata": {},
   "outputs": [],
   "source": [
    "players_clean <- select(players, -hashedEmail, -name)\n",
    "head(players_clean)"
   ]
  },
  {
   "cell_type": "markdown",
   "id": "9297f6f5-4713-4979-bc29-82e777eb30cd",
   "metadata": {},
   "source": [
    "Since our goal is to create a linear regression that attempts to predict played_hours using the other variables we need to turn variables such as experience, gender and subscription into factor variables. "
   ]
  },
  {
   "cell_type": "code",
   "execution_count": null,
   "id": "334f9961-2658-4fd1-9861-38813e1545ca",
   "metadata": {},
   "outputs": [],
   "source": [
    "players_clean <- players_clean |>\n",
    "    mutate(\n",
    "        experience = as.factor(experience),\n",
    "        subscribe = as.factor(subscribe), \n",
    "        gender = as.factor(gender)) |>\n",
    "    rename(age = Age)\n",
    "head(players_clean)"
   ]
  },
  {
   "cell_type": "markdown",
   "id": "3b6bc4dd-4814-482c-b1de-56475255cfde",
   "metadata": {},
   "source": [
    "Now the variables we want to use are factors which will help with our linear regression. I also renamed Age to age for consistency in names"
   ]
  },
  {
   "cell_type": "markdown",
   "id": "8952dc16-b0c6-45d0-9437-4a876073719f",
   "metadata": {},
   "source": [
    "STEP 3: Building and Evaluating Linear Regression Model"
   ]
  },
  {
   "cell_type": "markdown",
   "id": "f2ddb1c9-2306-4481-b80e-07ef28ee5ff3",
   "metadata": {},
   "source": [
    "Before building the needed elements for the regression it would be useful to have some idea of what the data looks like. First I will plot the hours played against the age of the participants showing different colours to differentiate the experience of the players and shape to show the gender. This will give us a solid understanding of the data before preparing the regression."
   ]
  },
  {
   "cell_type": "code",
   "execution_count": null,
   "id": "a03022db-3170-4074-93e3-fd059d16efaf",
   "metadata": {},
   "outputs": [],
   "source": [
    "players_clean_plot <- players_clean |>\n",
    "    ggplot(aes(x = age, y = played_hours, color = experience, shape = gender)) +\n",
    "    geom_point(alpha = 0.7) +\n",
    "    labs(x = \"Age\", y = \"Time Played (in Hours)\", color = \"Experience Level\",\n",
    "        shape = \"Gender\", title = \"Played Hours vs. Age\") +\n",
    "    theme(text = element_text(size = 12)) +\n",
    "    ylim(0, 20) +\n",
    "    scale_color_brewer(palette = \"Dark2\")\n",
    "\n",
    "players_clean_plot"
   ]
  },
  {
   "cell_type": "markdown",
   "id": "0b6bf1c9-53a2-42a3-87e8-04a8462b75dc",
   "metadata": {},
   "source": [
    "The graph above shows that initially just by looking at age vs time played there does not seem to be a lot of correlation in the data. However, we learnt something important which is that most of the time played data collected is concentrated in lower hours ~ 20 to 0 hours. This means that we have a few outliers outside of that data that can greatly affect our linear regression so we will not include those in our model."
   ]
  },
  {
   "cell_type": "code",
   "execution_count": null,
   "id": "79097bc7-8bed-414e-ac7d-55b64ead3952",
   "metadata": {},
   "outputs": [],
   "source": [
    "players_clean <- players_clean |>\n",
    "    filter(played_hours <= 20)"
   ]
  },
  {
   "cell_type": "markdown",
   "id": "84f960d4-3f13-45a0-9cbf-9b57a7e2cafc",
   "metadata": {},
   "source": [
    "After adjusting "
   ]
  }
 ],
 "metadata": {
  "kernelspec": {
   "display_name": "R",
   "language": "R",
   "name": "ir"
  },
  "language_info": {
   "codemirror_mode": "r",
   "file_extension": ".r",
   "mimetype": "text/x-r-source",
   "name": "R",
   "pygments_lexer": "r",
   "version": "4.3.3"
  }
 },
 "nbformat": 4,
 "nbformat_minor": 5
}
